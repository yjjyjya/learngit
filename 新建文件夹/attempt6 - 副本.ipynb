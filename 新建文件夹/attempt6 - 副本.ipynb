{
 "cells": [
  {
   "cell_type": "code",
   "execution_count": 1,
   "metadata": {},
   "outputs": [],
   "source": [
    "import pandas as pd\n",
    "import numpy as np\n",
    "import matplotlib.pyplot as plt\n",
    "import re\n",
    "import seaborn as sns\n",
    "import plotly.express as px\n",
    "plt.rcParams['font.sans-serif'] = 'SimHei'\n",
    "plt.rcParams['axes.unicode_minus'] = False    # 负号显示的解决方案\n",
    "\n",
    "\n",
    "from dash import Dash, Input, Output\n",
    "# from grpc import server\n",
    "import plotly.express as px\n",
    "# import plotly.graph_objs as go\n",
    "import dash\n",
    "from dash import dcc                  # 交互式组件\n",
    "from dash import html                 # 代码转html\n",
    "from dash.dependencies import Input, Output         # 回调\n",
    "from jupyter_dash import JupyterDash\n",
    "\n",
    "# pip3 install jupyter-server-proxy\n",
    "# pip3 install jupyter-dash"
   ]
  },
  {
   "cell_type": "markdown",
   "metadata": {},
   "source": [
    "### __读取数据__"
   ]
  },
  {
   "cell_type": "code",
   "execution_count": 2,
   "metadata": {},
   "outputs": [],
   "source": [
    "data = pd.read_excel('./2022年售后维修在线编辑汇总(2).xlsx')"
   ]
  },
  {
   "cell_type": "markdown",
   "metadata": {},
   "source": [
    "### __填补缺失值__"
   ]
  },
  {
   "cell_type": "code",
   "execution_count": 3,
   "metadata": {},
   "outputs": [
    {
     "name": "stdout",
     "output_type": "stream",
     "text": [
      "0\n"
     ]
    }
   ],
   "source": [
    "data['问题现象'].fillna('mask1', inplace=True)\n",
    "print(data['问题现象'].isna().sum())"
   ]
  },
  {
   "cell_type": "code",
   "execution_count": 4,
   "metadata": {},
   "outputs": [
    {
     "name": "stdout",
     "output_type": "stream",
     "text": [
      "0\n"
     ]
    }
   ],
   "source": [
    "# data.dropna(axis=0, subset=['问题原因'], inplace=True)\n",
    "data['问题原因'].fillna('mask2', inplace=True)\n",
    "print(data['问题原因'].isna().sum())"
   ]
  },
  {
   "cell_type": "code",
   "execution_count": 5,
   "metadata": {},
   "outputs": [
    {
     "name": "stdout",
     "output_type": "stream",
     "text": [
      "0\n"
     ]
    }
   ],
   "source": [
    "# data.dropna(axis=0, subset=['解决方案'], inplace=True)\n",
    "data['解决方案'].fillna('mask3', inplace=True)\n",
    "print(data['解决方案'].isna().sum())"
   ]
  },
  {
   "cell_type": "markdown",
   "metadata": {},
   "source": [
    "### __处理文本信息__"
   ]
  },
  {
   "cell_type": "code",
   "execution_count": 6,
   "metadata": {},
   "outputs": [],
   "source": [
    "# 考虑将部分列的英文标点转换成中文标点，并去掉末尾的换行符号\n",
    "\n",
    "# 规格型号、问题现象、问题原因、解决方案这几列需要转换\n",
    "table = {ord(f):ord(t) for f,t in zip(\n",
    "        u'()!?;[],，',\n",
    "        u'（）！？；【】//'                 #这里顺便把，也换成了/\n",
    "    )\n",
    "}\n",
    "def translate_E2C(col):\n",
    "    for i in range(len(data)):\n",
    "        if type(data.iloc[i, col]) == str:\n",
    "            data.iloc[i, col] = data.iloc[i, col].strip('\\n') #去掉换行\n",
    "            data.iloc[i, col] = data.iloc[i, col].translate(table)\n",
    "\n",
    "\n",
    "translate_E2C(4)\n",
    "translate_E2C(8)\n",
    "translate_E2C(9)\n",
    "translate_E2C(10)"
   ]
  },
  {
   "cell_type": "code",
   "execution_count": null,
   "metadata": {},
   "outputs": [],
   "source": []
  },
  {
   "cell_type": "code",
   "execution_count": 7,
   "metadata": {},
   "outputs": [
    {
     "data": {
      "text/plain": [
       "Series([], Name: 解决方案, dtype: int64)"
      ]
     },
     "execution_count": 7,
     "metadata": {},
     "output_type": "execute_result"
    }
   ],
   "source": [
    "# 考虑将解决方案列中 UF/V 和 A/V 中的/删去\n",
    "\n",
    "def convert_UFV():\n",
    "    temp = data[data['解决方案'].str.contains('UF/') & \n",
    "                    data['解决方案'].str.contains('V')]['解决方案']\n",
    "    for i in range(len(temp.index)):\n",
    "        a = data.iloc[data.index==temp.index[i], 10]\n",
    "        # print(list(a)[0])\n",
    "        ind = list(a)[0].index('UF/')\n",
    "        # print(ind)\n",
    "        data.iloc[data.index==temp.index[i], 10] = list(a)[0][:ind+2] + list(a)[0][ind+3:] #用字符串切片的方式进行删除\n",
    "        # print(data.iloc[data.index==temp.index[i], 10].tolist()[0])\n",
    "def convert_AV():\n",
    "    temp = data[data['解决方案'].str.contains('A/') & \n",
    "                    data['解决方案'].str.contains('V')]['解决方案']\n",
    "    for i in range(len(temp.index)):\n",
    "        a = data.iloc[data.index==temp.index[i], 10]\n",
    "        # print(list(a)[0])\n",
    "        ind = list(a)[0].index('A/')\n",
    "        # print(ind)\n",
    "        data.iloc[data.index==temp.index[i], 10] = list(a)[0][:ind+1] + list(a)[0][ind+2:] #用字符串切片的方式进行删除\n",
    "        # print(data.iloc[data.index==temp.index[i], 10].tolist()[0])\n",
    "\n",
    "\n",
    "convert_UFV()\n",
    "convert_AV()\n",
    "data[data['解决方案'].str.contains('UF/') & \n",
    "        data['解决方案'].str.contains('V')]['解决方案'].value_counts() #验证转换完毕\n",
    "data[data['解决方案'].str.contains('A/') & \n",
    "        data['解决方案'].str.contains('V')]['解决方案'].value_counts() #验证转换完毕"
   ]
  },
  {
   "cell_type": "code",
   "execution_count": 8,
   "metadata": {},
   "outputs": [
    {
     "data": {
      "text/plain": [
       "Series([], Name: 问题现象, dtype: int64)"
      ]
     },
     "execution_count": 8,
     "metadata": {},
     "output_type": "execute_result"
    }
   ],
   "source": [
    "# 考虑将问题现象列的 1.2.转换为/形式，统一一下\n",
    "\n",
    "def convert_123():\n",
    "    temp = data[data['问题现象'].str.startswith('1.')]['问题现象']\n",
    "    for i in range(len(temp.index)):\n",
    "        a = data.iloc[data.index==temp.index[i], 8]\n",
    "        # print(list(a)[0])\n",
    "        if list(a)[0][:2]=='1.': #这句 if判断没有也可以\n",
    "            b = list(a)[0][2:].split('.') #利用 '.'对字符串进行分割\n",
    "            for j in range(len(b)):\n",
    "                if j < len(b)-1: #这一步是删除经过 split分割后的多余数字\n",
    "                    b[j] = b[j][:-1]\n",
    "            data.iloc[data.index==temp.index[i], 8] = '/'.join(b)\n",
    "            # print(data.iloc[data.index==temp.index[i], 8].tolist()[0])\n",
    "convert_123()\n",
    "\n",
    "\n",
    "data[data['问题现象'].str.startswith('1.')]['问题现象'].value_counts() #验证转换完毕"
   ]
  },
  {
   "cell_type": "code",
   "execution_count": 9,
   "metadata": {},
   "outputs": [],
   "source": [
    "# 考虑部分意义相同的情况，需要进行修改，统一改成相同的表述\n",
    "# 因为有些数据是形如：不上电/网络连接不上\n",
    "#                   不上电-网络连接不上\n",
    "\n",
    "def handle_backslash_123(data, temp, changedstr, judgestr='', col='问题现象'):\n",
    "    '''\n",
    "        data: 是一个 pandas的 DataFrame\n",
    "        temp: data经过 .str.contains()筛选后的结果\n",
    "        judgestr: 判断字符, 例如网络连接不上的判断字符就是 '网络', 有时候不存在 '/'以及 '1.2.3.'的情况也可以选择不传入\n",
    "        changedstr: 修改后的字符, 例如网络连接不上的修改后的字符就是 '网络不通'\n",
    "        i: temp的下标, 因为需要遍历来按照索引进行修改\n",
    "    '''\n",
    "    if col != '问题现象':\n",
    "        loc = data.columns.tolist().index(col)\n",
    "    else:\n",
    "        loc = data.columns.tolist().index('问题现象') #找到问题现象出现的列索引\n",
    "    for i in range(len(temp.index)):\n",
    "        a = data.iloc[data.index==temp.index[i], loc]\n",
    "        if '/' in list(a)[0] or '，' in list(a)[0]: #利用 '/'对字符串进行分割\n",
    "            # print(list(a)[0])\n",
    "            if '/' in list(a)[0]:\n",
    "                split_str = '/'\n",
    "            elif '，' in list(a)[0]:\n",
    "                split_str = '，'\n",
    "            b = list(a)[0].split(split_str)\n",
    "            for j in range(len(b)):\n",
    "                if judgestr in b[j]:\n",
    "                    b[j] = changedstr\n",
    "                    break\n",
    "            data.iloc[data.index==temp.index[i], loc] = split_str.join(b)\n",
    "        else:\n",
    "            data.iloc[data.index==temp.index[i], loc] = changedstr"
   ]
  },
  {
   "cell_type": "code",
   "execution_count": 10,
   "metadata": {},
   "outputs": [],
   "source": [
    "# 问题现象\n",
    "# 针对 '不上电'处理，统一样式\n",
    "temp = data[(data['问题现象'].str.contains('不上电') | \n",
    "                data['问题现象'].str.contains('不通电')) & \n",
    "                    (~data['问题现象'].str.contains('面板不上电'))]['问题现象']\n",
    "handle_backslash_123(data, temp, changedstr='不上电', judgestr='电')\n",
    "\n",
    "\n",
    "# 针对 '4G不在线'处理，统一样式\n",
    "temp = data[(data['问题现象'].str.contains('不')) & \n",
    "                (data['问题现象'].str.contains('线')) & \n",
    "                    (~data['问题现象'].str.contains('TS流')) & \n",
    "                        (~data['问题现象'].str.contains('平台设备'))]['问题现象']\n",
    "handle_backslash_123(data, temp, changedstr='4G不上线', judgestr='线')\n",
    "\n",
    "\n",
    "# 针对 '无声音输出'处理，统一样式\n",
    "temp = data[data['问题现象'].str.contains('无声') & \n",
    "                ~data['问题现象'].str.contains('喊话') & \n",
    "                    ~data['问题现象'].str.contains('USB') & \n",
    "                        ~data['问题现象'].str.contains('喇叭') & \n",
    "                            ~data['问题现象'].str.contains('监听') & \n",
    "                                ~data['问题现象'].str.contains('话筒') & \n",
    "                                    ~data['问题现象'].str.contains('FM')]['问题现象']\n",
    "handle_backslash_123(data, temp, changedstr='无声音输出', judgestr='声')\n",
    "\n",
    "\n",
    "# 针对 '网络不通'处理，统一样式\n",
    "temp = data[data['问题现象'].str.contains('网络不通') | \n",
    "                data['问题现象'].str.contains('无网络') | \n",
    "                    data['问题现象'].str.contains('网络连不上')]['问题现象']\n",
    "handle_backslash_123(data, temp, changedstr='网络不通', judgestr='网络')\n",
    "\n",
    "\n",
    "# 针对 '声音异常'处理，统一样式\n",
    "temp = data[data['问题现象'].str.contains('声音异常')]['问题现象']\n",
    "handle_backslash_123(data, temp, changedstr='声音异常', judgestr='声音')\n",
    "\n",
    "\n",
    "# 针对 '搜索不到终端'处理，统一样式\n",
    "temp = data[data['问题现象'].str.contains('搜') & data['问题现象'].str.contains('终端')]['问题现象']\n",
    "handle_backslash_123(data, temp, changedstr='搜索不到终端', judgestr='终端')\n",
    "\n",
    "\n",
    "# 针对 '不出串口'处理，统一样式\n",
    "temp = data[data['问题现象'].str.contains('不出串口') | \n",
    "                data['问题现象'].str.contains('不跳串口')]['问题现象']\n",
    "handle_backslash_123(data, temp, changedstr='不出串口', judgestr='串口')\n",
    "\n",
    "\n",
    "# 针对 '电源指示灯不亮'处理，统一样式\n",
    "temp = data[data['问题现象'].str.contains('电源') & \n",
    "                data['问题现象'].str.contains('不亮')]['问题现象']\n",
    "handle_backslash_123(data, temp, changedstr='电源指示灯不亮', judgestr='电源')\n",
    "\n",
    "\n",
    "# 针对 '网络指示灯不亮'处理，统一样式\n",
    "temp = data[data['问题现象'].str.contains('网络') & \n",
    "                data['问题现象'].str.contains('不亮')]['问题现象']\n",
    "handle_backslash_123(data, temp, changedstr='网络指示灯不亮', judgestr='灯')\n",
    "\n",
    "\n",
    "# 针对 '不断重启'处理，统一样式\n",
    "temp = data[data['问题现象'].str.contains('重启') & \n",
    "                ~data['问题现象'].str.contains('U盘')]['问题现象']\n",
    "handle_backslash_123(data, temp, changedstr='不断重启', judgestr='重启')"
   ]
  },
  {
   "cell_type": "code",
   "execution_count": 11,
   "metadata": {},
   "outputs": [],
   "source": [
    "# 同上，问题原因列\n",
    "# 针对 '检测无问题'处理，统一样式\n",
    "temp = data[data['问题原因'].str.contains('检') &\n",
    "                ~data['问题原因'].str.contains('SIM') & \n",
    "                    ~data['问题原因'].str.contains('研发')]['问题原因']\n",
    "handle_backslash_123(data, temp, changedstr='检测无问题', judgestr='检', col='问题原因')\n",
    "\n",
    "\n",
    "# 针对 '开关电源坏'处理，统一样式\n",
    "temp = data[data['问题原因'].str.contains('开关电源') &\n",
    "                ~data['问题原因'].str.contains('扯离')]['问题原因']\n",
    "handle_backslash_123(data, temp, changedstr='开关电源坏', judgestr='源', col='问题原因')\n",
    "\n",
    "\n",
    "# 针对 '通讯模块坏'处理，统一样式\n",
    "temp = data[data['问题原因'].str.contains('通讯') & \n",
    "                ~data['问题原因'].str.contains('铜箔') & \n",
    "                    ~data['问题原因'].str.contains('U7') & \n",
    "                        ~data['问题原因'].str.contains('进水')]['问题原因']\n",
    "handle_backslash_123(data, temp, changedstr='通讯模块坏', judgestr='通讯', col='问题原因')\n",
    "\n",
    "\n",
    "# 针对 '功放芯片坏'处理，统一样式\n",
    "temp = data[data['问题原因'].str.contains('功放芯片')]['问题原因']\n",
    "handle_backslash_123(data, temp, changedstr='功放芯片坏', judgestr='功放', col='问题原因')\n",
    "\n",
    "\n",
    "# 针对 '网络芯片坏'处理，统一样式\n",
    "temp = data[data['问题原因'].str.contains('网络芯片') & \n",
    "                ~data['问题原因'].str.contains('8')]['问题原因']\n",
    "handle_backslash_123(data, temp, changedstr='网络芯片坏', judgestr='网络', col='问题原因')\n",
    "\n",
    "\n",
    "# 针对 'SIM卡槽坏（针脚氧化）'处理，统一样式\n",
    "temp = data[data['问题原因'].str.contains('SIM') & \n",
    "                data['问题原因'].str.contains('氧化') & \n",
    "                    ~data['问题原因'].str.contains('指示灯')]['问题原因']\n",
    "handle_backslash_123(data, temp, changedstr='SIM卡槽坏（针脚氧化）', judgestr='SIM', col='问题原因')\n",
    "\n",
    "\n",
    "# 针对 'FB2电感坏'处理，统一样式\n",
    "temp = data[data['问题原因'].str.contains('FB2') & \n",
    "                ~data['问题原因'].str.contains('烧')]['问题原因']\n",
    "handle_backslash_123(data, temp, changedstr='FB2电感坏', judgestr='FB2', col='问题原因')"
   ]
  },
  {
   "cell_type": "code",
   "execution_count": 12,
   "metadata": {},
   "outputs": [],
   "source": [
    "# 同上，解决方案列\n",
    "# 针对 '升级程序'处理，统一样式\n",
    "temp = data[(data['解决方案'].str.contains('升级') | \n",
    "                data['解决方案'].str.contains('更新')) & \n",
    "                    (~data['解决方案'].str.contains('底层')) & \n",
    "                        (~data['解决方案'].str.contains('写入'))]['解决方案']\n",
    "handle_backslash_123(data, temp, changedstr='升级程序', judgestr='程序', col='解决方案')\n",
    "\n",
    "\n",
    "# 针对 '更换网口座子RJ45'处理，统一样式\n",
    "temp = data[(data['解决方案'].str.contains('RJ45'))]['解决方案']\n",
    "handle_backslash_123(data, temp, changedstr='更换网口座子RJ45', judgestr='RJ45', col='解决方案')\n",
    "\n",
    "\n",
    "# 针对 '更换功放芯片MP7770'处理，统一样式\n",
    "temp = data[(data['解决方案'].str.contains('MP770')) | \n",
    "                (data['解决方案'].str.contains('MP7770'))]['解决方案']\n",
    "handle_backslash_123(data, temp, changedstr='更换功放芯片MP7770', judgestr='MP', col='解决方案')\n",
    "\n",
    "\n",
    "# 需要在下面的配件前面加上更换二字，可能还没列举完，需要时再继续往后添加\n",
    "needchange_parts = [\"VS1003\",\"ET3157\",\"DRV632\",\"XW217203\",\"BM107A-FHD006\",\"BC857\",\"AIC3254\",\n",
    "            \"RTL8201\",\"蓝牙模块MF01C\",\"MI20A\",\"CTB-RTDM-4G-E（旧）\",\"FIR12N80FG\",\"30欧电阻*2个\",\n",
    "            \"XMEGA32D4\",\"R31-10欧姆\",\"STM32F407\",\"2A250V保险管\",\"DM9000\",\"8pin\",\"LPC1768FBD100\",\n",
    "            \"电位器10K*3个\",\"网络芯片8201\",\"SIM卡槽\",\"DB207S\",\"SOT23-5\",\"FB2\",\"ATMEGA64A\",\"IRF4905\",\n",
    "            \"IRFZ48V\",\"QN8035\",\"CTB-RTDM-AP-C\",\"AMS1117-3.3\",\"S1003B\",\"MP7770\",\"0.3欧*2个\",\"TL431AIDBZR\",\n",
    "            \"新二维码150-015-03378-20201014-00190\",\"100UF450V\",\"GX3201H\",\"电感L2\",\"C221\",\"220欧\",\" LL4148\",\n",
    "            \"NJM2761\",\"NCP1380-B\",\"R28\",\"R29\",\"IC-ESOP-8\",\"3.9电源转换芯片JW5121\",\"LED（红）\",\"LED（绿）\",\n",
    "            \"LED1\",\"LM3886\",\"遥控天线\",\"遥控小板\",\"4G板\",\"GX3201\"]"
   ]
  },
  {
   "cell_type": "code",
   "execution_count": 13,
   "metadata": {},
   "outputs": [
    {
     "data": {
      "text/plain": [
       "Series([], Name: 解决方案, dtype: int64)"
      ]
     },
     "execution_count": 13,
     "metadata": {},
     "output_type": "execute_result"
    }
   ],
   "source": [
    "data[data['解决方案'].str.contains('MP770')]['解决方案'].value_counts()\n",
    "# data[data['解决方案'].str.contains('MP7770')]['解决方案'].value_counts()\n",
    "# data[data['解决方案'].str.contains('按ECN更改')]['解决方案'].value_counts()\n",
    "# 'hide'"
   ]
  },
  {
   "cell_type": "code",
   "execution_count": 14,
   "metadata": {},
   "outputs": [
    {
     "data": {
      "text/plain": [
       "更换GX3201H/升级程序/按ECN更改/天线座加绝缘垫                 113\n",
       "更换GX3201/执行ECN（2111020001）/4G天线处加绝缘垫片/升级程序    107\n",
       "更换SIM卡槽/升级程序/按ECN更改                            91\n",
       "执行ECN（2111020001）/4G天线处加绝缘垫片/升级程序              89\n",
       "更换GX3201H/升级程序/按ECN更改                          74\n",
       "                                             ... \n",
       "更换开关电源HPT75D34/执行ECN（加天线绝缘垫）/升级程序               1\n",
       "更换JWAL-75S34S5KTG2//执行ECN/升级程序                  1\n",
       "更换R31-10欧姆/执行第二次ECN                             1\n",
       "更换CTB-RTDM-AP-C/功放板按ECN更改（加TVS管）                1\n",
       "更换GX3201H/执行ECN/升级程序                            1\n",
       "Name: 解决方案, Length: 298, dtype: int64"
      ]
     },
     "execution_count": 14,
     "metadata": {},
     "output_type": "execute_result"
    }
   ],
   "source": [
    "temp = data[(data['解决方案'].str.contains('ECN'))]['解决方案'].value_counts()\n",
    "temp"
   ]
  },
  {
   "cell_type": "code",
   "execution_count": null,
   "metadata": {},
   "outputs": [],
   "source": []
  },
  {
   "cell_type": "code",
   "execution_count": 15,
   "metadata": {},
   "outputs": [],
   "source": [
    "# 处理多问题现象的情况\n",
    "\n",
    "def split_multiple(problem, cnt):\n",
    "    '''\n",
    "        主要用于分离含有 '/'或者 '，'的问题现象\n",
    "        注意要先忽略掉 '/升级程序', 再分离\n",
    "    '''\n",
    "    i = 0\n",
    "    while i < len(problem):\n",
    "        # 先处理含有多情况下的升级程序情况\n",
    "        if '/升级程序' in problem[i] or \"升级程序/\" in problem[i]:\n",
    "            if '/升级程序' in problem[i]:\n",
    "                problem[i] = ''.join(problem[i].split('/升级程序'))\n",
    "            if '升级程序/' in problem[i]:\n",
    "                problem[i] = ''.join(problem[i].split('升级程序/'))\n",
    "        if '，升级程序' in problem[i] or \"升级程序，\" in problem[i]:\n",
    "            if '，升级程序' in problem[i]:\n",
    "                problem[i] = ''.join(problem[i].split('，升级程序'))\n",
    "            if '升级程序，' in problem[i]:\n",
    "                problem[i] = ''.join(problem[i].split('升级程序，'))\n",
    "        # 再处理正常情况\n",
    "        if '/' in problem[i] or '，' in problem[i]:\n",
    "            if '/' in problem[i]:\n",
    "                temp = problem[i].split('/')\n",
    "            elif '，' in problem[i]:\n",
    "                temp = problem[i].split('，')\n",
    "            problem += temp\n",
    "            cnt += [cnt[i]]*len(temp)\n",
    "            problem.pop(i)\n",
    "            cnt.pop(i)\n",
    "        else:\n",
    "            i += 1\n",
    "\n",
    "def sum_multiple(problem, cnt):\n",
    "    '''\n",
    "        有时候存在一个规格型号有多个问题现象, 那可能需要和之前单一的情况合并起来考虑\n",
    "        problem: 是一个列表, 存放着需要绘制图像的文本数据\n",
    "        cnt: 是一个列表, 存放着需要绘制图像的数值数据\n",
    "        先根据文本长度排序, 短的文本在前面, 防止丢失不一样的解决方案\n",
    "        有时候存在空字符串 '', 需要删掉\n",
    "        之后去重\n",
    "        注意在 needchange_parts中的配件需要添加更换二字\n",
    "    '''\n",
    "    temp = sorted(enumerate(problem), key=lambda x:len(x[1]), reverse=False)\n",
    "    idx = [i[0] for i in temp]\n",
    "    problem = [i[1] for i in temp]\n",
    "    cnt = [cnt[i] for i in idx]\n",
    "\n",
    "    # # 去掉 ''的情况\n",
    "    # if '' in problem:\n",
    "    #     ind = problem.index('')\n",
    "    #     problem.pop(ind)\n",
    "    #     cnt.pop(ind)\n",
    "\n",
    "    # 去重\n",
    "    pro_dict = {}\n",
    "    for i in range(len(problem)):\n",
    "        if problem[i] != '': #忽略 ''的情况\n",
    "            if problem[i] in needchange_parts:\n",
    "                problem[i] = '更换'+problem[i]\n",
    "            flag = 0\n",
    "            # # 对于含有相同文本的情况，只取最长的文本\n",
    "            # for key in pro_dict.keys(): #这一步是在去重\n",
    "            #     if problem[i] in key: #短的文本在长的里面\n",
    "            #         pro_dict[key] += cnt[i] #长的值增加\n",
    "            #         flag = 1\n",
    "            #         break\n",
    "            if flag == 0:\n",
    "                if problem[i] not in pro_dict:\n",
    "                    pro_dict[problem[i]] = cnt[i]\n",
    "                else:\n",
    "                    pro_dict[problem[i]] += cnt[i]\n",
    "    \n",
    "    # print(list(pro_dict.keys()), '\\n', list(pro_dict.values()))\n",
    "    # problem, cnt = list(pro_dict.keys()), list(pro_dict.values())\n",
    "    return list(pro_dict.keys()), list(pro_dict.values()) #字典解包"
   ]
  },
  {
   "cell_type": "code",
   "execution_count": 16,
   "metadata": {},
   "outputs": [],
   "source": [
    "# 记录 '成品' 与 '板件' 的型号\n",
    "product_type = list(data['产品类型'].value_counts().index)[:-1]\n",
    "\n",
    "model = {} #字典用于存放成品或者板件的型号\n",
    "for i in product_type:\n",
    "    model[i] = list(data[data['产品类型']==i]['规格型号'].value_counts().index)\n",
    "# model['成品']\n",
    "# model"
   ]
  },
  {
   "cell_type": "code",
   "execution_count": 17,
   "metadata": {},
   "outputs": [
    {
     "name": "stdout",
     "output_type": "stream",
     "text": [
      "Dash app running on http://127.0.0.1:8050/\n"
     ]
    }
   ],
   "source": [
    "app = JupyterDash('售后数据')\n",
    "all_options = model\n",
    "\n",
    "app.layout = html.Div([\n",
    "    html.Div(\n",
    "        [html.H4('售后服务数据')]\n",
    "    ),\n",
    "    html.Div(\n",
    "        [dcc.Graph(id = \"graph\")],\n",
    "        # style = dict(width = '64%', display = 'inline-block')\n",
    "    ),\n",
    "    html.Div(\n",
    "        [html.P(\"产品类型:\"),\n",
    "        dcc.Dropdown(id = 'types',\n",
    "                    options = [{'label': k, 'value': k} for k in all_options.keys()],\n",
    "                    value = '成品', #初始值为成品\n",
    "                    clearable = True\n",
    "        ),\n",
    "        html.P(\"规格型号:\"),\n",
    "        dcc.Dropdown(id = 'specifications',\n",
    "                    clearable = True\n",
    "        ),\n",
    "        html.P(\"列名:\"),\n",
    "        dcc.Dropdown(id = 'columns',\n",
    "                    options = ['问题现象', '问题原因', '解决方案'],\n",
    "                    value = '问题现象', #初始值为问题现象\n",
    "                    clearable = True\n",
    "        )],\n",
    "        style = dict(width = '40%', display = 'inline-block') #设置下拉列表的大小\n",
    "    )\n",
    "])\n",
    "\n",
    "@app.callback(\n",
    "    Output('specifications', 'options'),\n",
    "    [Input('types', 'value')])\n",
    "def set_type_options(select_type): #选择产品类型\n",
    "    return [{'label': i, 'value': i} for i in all_options[select_type]] #反馈到下拉列表的显示区\n",
    "\n",
    "@app.callback(\n",
    "    Output('specifications', 'value'),\n",
    "    [Input('specifications', 'options')])\n",
    "def set_specification_value(available_options): #选择规格型号\n",
    "    return available_options[0]['value'] #反馈到下拉列表的显示区\n",
    "\n",
    "\n",
    "@app.callback(\n",
    "    Output(\"graph\", \"figure\"), #需要更新的输出\n",
    "    [Input(\"types\", \"value\"), #需要更新的输入\n",
    "    Input(\"specifications\", \"value\"),\n",
    "    Input(\"columns\", \"value\"),])\n",
    "def generate_chart(types, specifications, columns):\n",
    "    texts = []\n",
    "    values = []\n",
    "    i = len(texts)\n",
    "    temp = data[data['规格型号']==specifications][columns].value_counts()\n",
    "\n",
    "    texts.append(list(temp.index))\n",
    "    values.append(list(temp))\n",
    "\n",
    "    # 是否忽略缺失值\n",
    "    def check_exist(textdata):\n",
    "        ind = []\n",
    "        check_str = ['mask1', 'mask2', 'mask3', '检测无问题']\n",
    "        for str in check_str:\n",
    "            if str in textdata:\n",
    "                ind.append(textdata.index(str))\n",
    "        return ind\n",
    "    ind = sorted(check_exist(texts[i]), reverse=True)\n",
    "    for j in ind:\n",
    "        texts[i].pop(j)\n",
    "        values[i].pop(j)\n",
    "\n",
    "    split_multiple(texts[i], values[i])\n",
    "    texts[i], values[i] = sum_multiple(texts[i], values[i])\n",
    "\n",
    "    labels, numsdata = texts[i], values[i]\n",
    "    df = pd.DataFrame(zip(labels, numsdata), columns=[columns, '次数'])\n",
    "    fig = px.pie(\n",
    "                df,\n",
    "                values = '次数',\n",
    "                names = columns,\n",
    "                hole = 0.3,\n",
    "                title = '型号 '+ specifications +' 的主要'+ columns,\n",
    "    )\n",
    "    fig.update_traces(textposition='inside')\n",
    "    fig.update_layout(uniformtext_minsize=10, \n",
    "                        uniformtext_mode='hide',)\n",
    "    return fig\n",
    "\n",
    "\n",
    "if __name__ == '__main__':\n",
    "    app.run_server(mode='external', width='80%', height=800)"
   ]
  },
  {
   "cell_type": "code",
   "execution_count": null,
   "metadata": {},
   "outputs": [],
   "source": []
  },
  {
   "cell_type": "code",
   "execution_count": null,
   "metadata": {},
   "outputs": [],
   "source": []
  }
 ],
 "metadata": {
  "kernelspec": {
   "display_name": "Python 3.9.4 64-bit",
   "language": "python",
   "name": "python3"
  },
  "language_info": {
   "codemirror_mode": {
    "name": "ipython",
    "version": 3
   },
   "file_extension": ".py",
   "mimetype": "text/x-python",
   "name": "python",
   "nbconvert_exporter": "python",
   "pygments_lexer": "ipython3",
   "version": "3.9.4"
  },
  "orig_nbformat": 4,
  "vscode": {
   "interpreter": {
    "hash": "865d8b2eb28e274047ba64063dfb6a2aabf0dfec4905d304d7a76618dae6fdd4"
   }
  }
 },
 "nbformat": 4,
 "nbformat_minor": 2
}
